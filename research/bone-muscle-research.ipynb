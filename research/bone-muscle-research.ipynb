{
 "cells": [
  {
   "cell_type": "code",
   "execution_count": 1,
   "id": "82c9a18e-e26e-4dfa-9b42-c19f17291053",
   "metadata": {},
   "outputs": [],
   "source": [
    "# Import libraries\n",
    "\n",
    "import numpy as np\n",
    "import matplotlib.pyplot as plt\n",
    "import sympy as sp"
   ]
  },
  {
   "cell_type": "markdown",
   "id": "4e6a42ad-2e3b-4e67-aed2-0b9d24518a8d",
   "metadata": {},
   "source": [
    "# Physical Model of Two Bones, a Joint, and a Muscle"
   ]
  },
  {
   "cell_type": "markdown",
   "id": "41266323-8611-477d-8246-410880030bbb",
   "metadata": {},
   "source": [
    "## Model 1 (simplest): 1-D linear rigid bones, frictionless joint, 1-D linearly expanding muscle fiber"
   ]
  },
  {
   "cell_type": "markdown",
   "id": "90d5ee6e-da6a-4b81-813e-6ada31062fa0",
   "metadata": {},
   "source": [
    "## Model 2: 1-D parametric rigid bones, frictionless joint, 1-D piecewise linearly expanding muscle fiber with 2-D motion"
   ]
  },
  {
   "cell_type": "markdown",
   "id": "4ab1e3ab-39a6-44bf-a2f2-bd796391b785",
   "metadata": {},
   "source": [
    "## Model 3: 3-D parametric rigid bones with radius, frictionless joint, joing, 1-D piecewise linearly expanding muscle fiber with 2-D motion"
   ]
  },
  {
   "cell_type": "markdown",
   "id": "47d64c22-0ee1-48e4-9819-c0468e7d425b",
   "metadata": {},
   "source": [
    "## Model 4: 3-D parametric rigid bones radially symmetric about curve, frictionless joint, 1-D piecewise linearly expanding muscle fiber with 2-D motion"
   ]
  },
  {
   "cell_type": "markdown",
   "id": "cde3b5b5-6a08-4bf2-a21f-9fb5a55e22fb",
   "metadata": {},
   "source": [
    "## Model 5: 3-D parametric rigid bones with envelope dependent on azimuthal function, frictionless joint, 3-D piecewise linearly expanding muscle fiber with 3-D motion and interfaces with bones"
   ]
  },
  {
   "cell_type": "markdown",
   "id": "06cfba1a-9494-4c4e-923e-8450003fdb4c",
   "metadata": {},
   "source": [
    "## Model 6: 3-D parametric rigid bones with envelope dependent on azimuthal function, frictionless joint, multiple 3-D piecewise linearly expanding muscle fibers with 3-D motion and interfaces with bones"
   ]
  }
 ],
 "metadata": {
  "kernelspec": {
   "display_name": "Python 3 (ipykernel)",
   "language": "python",
   "name": "python3"
  },
  "language_info": {
   "codemirror_mode": {
    "name": "ipython",
    "version": 3
   },
   "file_extension": ".py",
   "mimetype": "text/x-python",
   "name": "python",
   "nbconvert_exporter": "python",
   "pygments_lexer": "ipython3",
   "version": "3.9.10"
  },
  "toc-autonumbering": true,
  "toc-showtags": false
 },
 "nbformat": 4,
 "nbformat_minor": 5
}
