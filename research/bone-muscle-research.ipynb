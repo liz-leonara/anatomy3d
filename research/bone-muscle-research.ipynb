{
 "cells": [
  {
   "cell_type": "code",
   "execution_count": 1,
   "id": "82c9a18e-e26e-4dfa-9b42-c19f17291053",
   "metadata": {},
   "outputs": [],
   "source": [
    "# Import libraries\n",
    "\n",
    "import numpy as np\n",
    "import matplotlib.pyplot as plt\n",
    "import sympy as sp"
   ]
  },
  {
   "cell_type": "markdown",
   "id": "4e6a42ad-2e3b-4e67-aed2-0b9d24518a8d",
   "metadata": {},
   "source": [
    "# Physical Model of Two Bones, a Joint, and a Muscle"
   ]
  },
  {
   "cell_type": "markdown",
   "id": "41266323-8611-477d-8246-410880030bbb",
   "metadata": {},
   "source": [
    "## Model 1 (simplest): 1-D linear rigid bones, frictionless joint, 1-D linearly expanding muscle fiber"
   ]
  },
  {
   "cell_type": "markdown",
   "id": "90d5ee6e-da6a-4b81-813e-6ada31062fa0",
   "metadata": {},
   "source": [
    "## Model 2: 1-D parametric rigid bones, frictionless joint, 1-D piecewise linearly expanding muscle fiber with 2-D motion"
   ]
  },
  {
   "cell_type": "markdown",
   "id": "96fd89d0-90d3-41cb-9834-11653ae54674",
   "metadata": {},
   "source": [
    "### Simpler Model"
   ]
  },
  {
   "cell_type": "markdown",
   "id": "dd4e3839-b8f8-45cd-850f-0f748b1d827c",
   "metadata": {},
   "source": [
    "We will begin with a simpler model, where the top bone is named bone $A$, the bottom bone is named bone $B$, and bone $A$ is tilted away from bone $B$ at an angle $\\theta$. Suppose the muscle connects to muscle $B$ at the point $\\vec{r}_0 = (x_0, y_0)$ and muscle $A$ at the point $\\vec{r}_N = (x_N, y_N)$ (the meaning of these variable names will be apparent later). Now, let us define the variables $s_B^* := | \\vec{r}_0 | = \\sqrt{x_0^2 + y_0^2}$ and $s_A^* := | \\vec{r}_N | = \\sqrt{x_N^2 + y_N^2}$, where $s$ is a parameter for the arc length of the bone and the asterisk indicates they are critical points for our problem."
   ]
  },
  {
   "cell_type": "markdown",
   "id": "e594829b-f27e-4eff-9115-a6b7ebadf94a",
   "metadata": {},
   "source": [
    "Let us define a series of linear 1-D muscle segments with $N$ members, where member $1$ connects to muscle $B$, member $N$ connects to muscle $A$, and member $1 \\lt n \\lt N$ connects to member $n - 1$ and $n + 1$ at its end points. Let us further define $(x_n, y_n)$ as the point where muscle $n$ connects to muscle $n + 1$ or, in the case $n = N$, to bone A. Futhermore, let us also define the coordinates $(l_n, \\phi_n)$ where $l_n$ is the length of muscle segment $n$ and $\\phi_n$ is its counterclockwise angle relative to the $y$-axis."
   ]
  },
  {
   "cell_type": "markdown",
   "id": "e3d7988c-8ce4-4328-b9c0-a173dd3f9f82",
   "metadata": {},
   "source": [
    "The length of the straight line connecting points $\\vec{r}_0$ and $\\vec{r}_N$ is $| \\vec{r}_N - \\vec{r}_0 | = \\sqrt{\\left( x_N - x_0 \\right)^2 + \\left( y_N - y_0 \\right)^2}$. This length is also the sum of the signed projections of each muscle segment onto the straight line connecting these two points. This will be important for finding the gravitational potential of the bones later."
   ]
  },
  {
   "cell_type": "markdown",
   "id": "0447e92d-696c-48b5-8821-175fd14bd58f",
   "metadata": {},
   "source": [
    "Let us further define the total mass of bone $A$ as $M_A$ and that of bone $B$ as $M_B$. Let us also define the total mass of muscle segment $n$ as $M_n$ for $1 \\leq n \\leq N$. Let us define the total lengths of the bones as $l_A$ and $l_B$. Let us define the directionality of arc lengths $s_A$ and $s_B$ of the bones as away from the hinge and that of the muscle segment arc lengths $s_n$ as pointing from where muscle $n$ connects to muscle $n - 1$ to where it connects to muscle $n + 1$. Let us further define the cumulative masses along the bones and muscles as $m_A$, $m_B$, and $m_n$. This will allow us to speak of the arc length and mass elements $\\mathrm{d}s$ and $\\mathrm{d}m$."
   ]
  },
  {
   "cell_type": "markdown",
   "id": "37aa82e7-4edd-49e5-b45a-66ff37b7227c",
   "metadata": {},
   "source": [
    "### Defining variables"
   ]
  },
  {
   "cell_type": "markdown",
   "id": "1d287a87-8c12-48f4-afdf-5e9de03908a6",
   "metadata": {},
   "source": [
    "We have a joint with bones in the form of parametric curves and a muscle composed of multiple sections."
   ]
  },
  {
   "cell_type": "markdown",
   "id": "4ab1e3ab-39a6-44bf-a2f2-bd796391b785",
   "metadata": {},
   "source": [
    "## Model 3: 3-D parametric rigid bones with radius, frictionless joint, joing, 1-D piecewise linearly expanding muscle fiber with 2-D motion"
   ]
  },
  {
   "cell_type": "markdown",
   "id": "47d64c22-0ee1-48e4-9819-c0468e7d425b",
   "metadata": {},
   "source": [
    "## Model 4: 3-D parametric rigid bones radially symmetric about curve, frictionless joint, 1-D piecewise linearly expanding muscle fiber with 2-D motion"
   ]
  },
  {
   "cell_type": "markdown",
   "id": "cde3b5b5-6a08-4bf2-a21f-9fb5a55e22fb",
   "metadata": {},
   "source": [
    "## Model 5: 3-D parametric rigid bones with envelope dependent on azimuthal function, frictionless joint, 3-D piecewise linearly expanding muscle fiber with 3-D motion and interfaces with bones"
   ]
  },
  {
   "cell_type": "markdown",
   "id": "06cfba1a-9494-4c4e-923e-8450003fdb4c",
   "metadata": {},
   "source": [
    "## Model 6: 3-D parametric rigid bones with envelope dependent on azimuthal function, frictionless joint, multiple 3-D piecewise linearly expanding muscle fibers with 3-D motion and interfaces with bones"
   ]
  }
 ],
 "metadata": {
  "kernelspec": {
   "display_name": "Python 3 (ipykernel)",
   "language": "python",
   "name": "python3"
  },
  "language_info": {
   "codemirror_mode": {
    "name": "ipython",
    "version": 3
   },
   "file_extension": ".py",
   "mimetype": "text/x-python",
   "name": "python",
   "nbconvert_exporter": "python",
   "pygments_lexer": "ipython3",
   "version": "3.9.10"
  },
  "toc-autonumbering": true,
  "toc-showtags": false
 },
 "nbformat": 4,
 "nbformat_minor": 5
}
