{
 "cells": [
  {
   "cell_type": "code",
   "execution_count": 1,
   "id": "ae23a6d3-c2ac-472d-9336-f1b8e36d79e8",
   "metadata": {},
   "outputs": [],
   "source": [
    "# Import libraries\n",
    "\n",
    "import numpy as np\n",
    "import matplotlib.pyplot as plt\n",
    "from sympy import *"
   ]
  },
  {
   "cell_type": "markdown",
   "id": "498dd533-b21c-422e-9dfe-5aa0eb8f1497",
   "metadata": {},
   "source": [
    "# Model of a Muscle"
   ]
  },
  {
   "cell_type": "markdown",
   "id": "75e341ad-c933-4766-8937-3a7e6cb11912",
   "metadata": {},
   "source": [
    "## Setting up the model"
   ]
  },
  {
   "cell_type": "markdown",
   "id": "e65fbb0c-4c1b-419b-917a-e5b01007cfd2",
   "metadata": {},
   "source": [
    "### Description of model"
   ]
  },
  {
   "cell_type": "markdown",
   "id": "694be92a-144b-4f12-a86a-af80c54c2fa6",
   "metadata": {},
   "source": [
    "We model a single muscle fiber as a line segment that rotates with a stationary midpoint and stretches like a simple spring."
   ]
  },
  {
   "cell_type": "markdown",
   "id": "03ed3800-d5b8-4d6e-8b26-e88d2650b3c4",
   "metadata": {},
   "source": [
    "### Mathematical setup of model"
   ]
  },
  {
   "cell_type": "markdown",
   "id": "2ebf9661-a168-4a02-bf03-da2ee495c181",
   "metadata": {},
   "source": [
    "#### Variables"
   ]
  },
  {
   "cell_type": "markdown",
   "id": "936aa093-a951-4e3e-863b-2f0df8bb6d6d",
   "metadata": {},
   "source": [
    "Define $t$ as time, $\\ell$ as the variable length of the fiber, $\\dot{\\ell}$ as the derivative of $\\ell$ with respect to time $\\frac{\\mathrm{d} \\ell}{\\mathrm{d} t}$, $\\phi$ as the counter-clockwise angle of the muscle fiber with respect to the $x$-axis, and $\\dot{\\phi}$ as the derivative of $\\phi$ with respect to time $\\frac{\\mathrm{d} \\phi}{\\mathrm{d} t}$."
   ]
  },
  {
   "cell_type": "code",
   "execution_count": 2,
   "id": "3d562db0-0453-41ef-8df8-4541d82aa4dd",
   "metadata": {},
   "outputs": [],
   "source": [
    "t, l, ldot, phi, phidot = symbols('t \\ell \\dot{\\ell} phi \\dot{\\phi}')"
   ]
  },
  {
   "cell_type": "markdown",
   "id": "368d74f1-630b-4bae-ae26-9e990975a49e",
   "metadata": {},
   "source": [
    "#### Material properties"
   ]
  },
  {
   "cell_type": "markdown",
   "id": "72174ed5-2f8c-421e-b9ab-b108e909cf0a",
   "metadata": {},
   "source": [
    "Define $\\ell_0$ as the equilibrium length of the fiber, $k$ as the spring constant of the fiber, and $m$ as the mass of the fiber."
   ]
  },
  {
   "cell_type": "code",
   "execution_count": 3,
   "id": "85149a94-40cb-44e5-8cdf-f62ea5ae613f",
   "metadata": {},
   "outputs": [],
   "source": [
    "l0, k, m = symbols('\\ell_0 k m')"
   ]
  },
  {
   "cell_type": "markdown",
   "id": "6c5be1c8-08c7-4418-9b79-82d0f0f67874",
   "metadata": {},
   "source": [
    "Let us determine the moment of inertia $I$ about the center of the fiber."
   ]
  },
  {
   "cell_type": "code",
   "execution_count": 4,
   "id": "0ecaa8c2-1c72-41b5-a3b7-ce687d660052",
   "metadata": {},
   "outputs": [
    {
     "data": {
      "text/latex": [
       "$\\displaystyle \\frac{\\ell^{2} m}{12}$"
      ],
      "text/plain": [
       "\\ell**2*m/12"
      ]
     },
     "execution_count": 4,
     "metadata": {},
     "output_type": "execute_result"
    }
   ],
   "source": [
    "I = Rational(1, 12) * m * l**2\n",
    "I"
   ]
  },
  {
   "cell_type": "markdown",
   "id": "b59610fe-ede8-4c13-b9cb-dfc3c6d499fc",
   "metadata": {},
   "source": [
    "#### Rotational kinetic energy of muscle fiber"
   ]
  },
  {
   "cell_type": "markdown",
   "id": "39293aba-8a85-48cb-980f-c4f462d39f06",
   "metadata": {},
   "source": [
    "Define $T_\\mathrm{rot}$ as the rotational kinetic energy of the muscle fiber. Now let us determine $T_\\mathrm{rot}$ in terms of our basic variables and material properties."
   ]
  },
  {
   "cell_type": "code",
   "execution_count": 5,
   "id": "6b4adc8a-ad41-4486-9f18-3b7dd7b0ba58",
   "metadata": {},
   "outputs": [
    {
     "data": {
      "text/latex": [
       "$\\displaystyle \\frac{\\dot{\\phi}^{2} \\ell^{2} m}{24}$"
      ],
      "text/plain": [
       "\\dot{\\phi}**2*\\ell**2*m/24"
      ]
     },
     "execution_count": 5,
     "metadata": {},
     "output_type": "execute_result"
    }
   ],
   "source": [
    "Trot = Rational(1, 2) * I * phidot ** 2\n",
    "Trot"
   ]
  },
  {
   "cell_type": "markdown",
   "id": "8a032aed-bb89-4399-9151-df54e39955da",
   "metadata": {},
   "source": [
    "#### Spring kinetic energy of muscle fiber"
   ]
  },
  {
   "cell_type": "markdown",
   "id": "ac52a2ae-1b3d-4566-9b98-ea2d968b6e44",
   "metadata": {},
   "source": [
    "Define $T_k$ as the spring kinetic energy of the muscle fiber. Let us assume that the linear mass density of the fiber $\\lambda = \\frac{m}{\\ell}$ is uniform and the speed of points on the fiber increases linearly with distance from the origin. Thus, we can subdivide the fiber into segments with mass $\\mathrm{d} m$ which are a distance $x$ away from the origin. Because the points are moving away from each other with equal differences in speed, the fiber maintains a uniform mass distribution. Define the speed of either point at distance $x \\leq \\frac{\\ell}{2}$ from the origin as $v \\left( x \\right)$. Let us determine $v \\left( x \\right)$."
   ]
  },
  {
   "cell_type": "code",
   "execution_count": 6,
   "id": "e5eaab5e-f6ac-45d1-8c89-097a3ad1c114",
   "metadata": {},
   "outputs": [
    {
     "data": {
      "text/latex": [
       "$\\displaystyle \\frac{2 \\dot{\\ell} x}{\\ell}$"
      ],
      "text/plain": [
       "2*\\dot{\\ell}*x/\\ell"
      ]
     },
     "execution_count": 6,
     "metadata": {},
     "output_type": "execute_result"
    }
   ],
   "source": [
    "x = symbols('x')\n",
    "v = ldot * x / (l / 2)\n",
    "v"
   ]
  },
  {
   "cell_type": "markdown",
   "id": "316aa75e-3290-4344-8305-f8971dedc882",
   "metadata": {},
   "source": [
    "Now, let us find the differential $\\mathrm{d} T_k \\left( x \\right)$ in terms of the differential $\\mathrm{d} m$."
   ]
  },
  {
   "cell_type": "code",
   "execution_count": 7,
   "id": "578df583-e148-4f37-8e18-34f2bad5cc6f",
   "metadata": {},
   "outputs": [
    {
     "data": {
      "text/latex": [
       "$\\displaystyle \\frac{4 \\dot{\\ell}^{2} \\mathrm{d}m x^{2}}{\\ell^{2}}$"
      ],
      "text/plain": [
       "4*\\dot{\\ell}**2*\\mathrm{d}m*x**2/\\ell**2"
      ]
     },
     "execution_count": 7,
     "metadata": {},
     "output_type": "execute_result"
    }
   ],
   "source": [
    "dm = symbols('\\mathrm{d}m')\n",
    "dTk = dm * v**2\n",
    "dTk"
   ]
  },
  {
   "cell_type": "markdown",
   "id": "787f2cdb-1450-4901-95d7-aa0802149ac3",
   "metadata": {},
   "source": [
    "Now, let us rewrite the differential $\\mathrm{d} m$ in terms of the differential $\\mathrm{d} x$."
   ]
  },
  {
   "cell_type": "code",
   "execution_count": 8,
   "id": "2bc322c9-fd42-49db-ae76-d9ee162f38cd",
   "metadata": {},
   "outputs": [
    {
     "data": {
      "text/latex": [
       "$\\displaystyle \\frac{\\mathrm{d}x m}{\\ell}$"
      ],
      "text/plain": [
       "\\mathrm{d}x*m/\\ell"
      ]
     },
     "execution_count": 8,
     "metadata": {},
     "output_type": "execute_result"
    }
   ],
   "source": [
    "dx = symbols('\\mathrm{d}x')\n",
    "lam = m / l\n",
    "dm = lam * dx\n",
    "dm"
   ]
  },
  {
   "cell_type": "markdown",
   "id": "8cae07d4-8cc5-4989-a0b2-1764ff75c05d",
   "metadata": {},
   "source": [
    "Now let's plug this into our expression for $\\mathrm{d} T_k \\left( x \\right)$."
   ]
  },
  {
   "cell_type": "code",
   "execution_count": 9,
   "id": "88187700-9196-4b6c-b711-c82bbf4b7062",
   "metadata": {},
   "outputs": [
    {
     "data": {
      "text/latex": [
       "$\\displaystyle \\frac{4 \\dot{\\ell}^{2} \\mathrm{d}x m x^{2}}{\\ell^{3}}$"
      ],
      "text/plain": [
       "4*\\dot{\\ell}**2*\\mathrm{d}x*m*x**2/\\ell**3"
      ]
     },
     "execution_count": 9,
     "metadata": {},
     "output_type": "execute_result"
    }
   ],
   "source": [
    "dTk = dm * v**2\n",
    "dTk"
   ]
  },
  {
   "cell_type": "markdown",
   "id": "80f8bbfd-be05-4152-8f48-d5c3e0ca0be1",
   "metadata": {},
   "source": [
    "Now we integrate from $x = 0$ to $x = \\frac{\\ell}{2}$, then double our result to account for symmetry to find $T_k$."
   ]
  },
  {
   "cell_type": "code",
   "execution_count": 10,
   "id": "18ea8b21-7260-48fc-a358-b5f48e680ad8",
   "metadata": {},
   "outputs": [
    {
     "data": {
      "text/latex": [
       "$\\displaystyle \\frac{\\dot{\\ell}^{2} m}{3}$"
      ],
      "text/plain": [
       "\\dot{\\ell}**2*m/3"
      ]
     },
     "execution_count": 10,
     "metadata": {},
     "output_type": "execute_result"
    }
   ],
   "source": [
    "dTkint = dTk / dx\n",
    "Tk = 2 * integrate(dTkint, (x, 0, l/2))\n",
    "Tk"
   ]
  },
  {
   "cell_type": "markdown",
   "id": "4b11668e-b1fd-48cd-b180-329db95eb854",
   "metadata": {},
   "source": [
    "#### Spring potential energy of muscle fiber"
   ]
  },
  {
   "cell_type": "markdown",
   "id": "6d7efb17-3110-469e-8fe4-f3b78d306887",
   "metadata": {},
   "source": [
    "Define $U_k$ as the spring potential energy of the muscle fiber. Now let us use the standard formula for spring potential energy to find $U_k$."
   ]
  },
  {
   "cell_type": "code",
   "execution_count": 11,
   "id": "68295849-8f8f-4804-af26-7fa63247143c",
   "metadata": {},
   "outputs": [
    {
     "data": {
      "text/latex": [
       "$\\displaystyle \\frac{k \\left(\\ell - \\ell_{0}\\right)^{2}}{2}$"
      ],
      "text/plain": [
       "k*(\\ell - \\ell_0)**2/2"
      ]
     },
     "execution_count": 11,
     "metadata": {},
     "output_type": "execute_result"
    }
   ],
   "source": [
    "Uk = Rational(1, 2) * k * (l - l0)**2\n",
    "Uk"
   ]
  },
  {
   "cell_type": "markdown",
   "id": "ec771ed9-18e9-46e5-adf7-3437cdee985c",
   "metadata": {},
   "source": [
    "#### Lagrangian of muscle fiber"
   ]
  },
  {
   "cell_type": "markdown",
   "id": "474bdda6-909b-4065-bac8-c3ea7f61a0e8",
   "metadata": {},
   "source": [
    "Now let us find the Lagrangian $\\mathcal{L}$ by subtracting the total potential energy from the total kinetic energy."
   ]
  },
  {
   "cell_type": "code",
   "execution_count": 12,
   "id": "39c52448-a0f7-43c4-9d37-7877db1150d5",
   "metadata": {},
   "outputs": [
    {
     "data": {
      "text/latex": [
       "$\\displaystyle \\frac{\\dot{\\ell}^{2} m}{3} + \\frac{\\dot{\\phi}^{2} \\ell^{2} m}{24} - \\frac{k \\left(\\ell - \\ell_{0}\\right)^{2}}{2}$"
      ],
      "text/plain": [
       "\\dot{\\ell}**2*m/3 + \\dot{\\phi}**2*\\ell**2*m/24 - k*(\\ell - \\ell_0)**2/2"
      ]
     },
     "execution_count": 12,
     "metadata": {},
     "output_type": "execute_result"
    }
   ],
   "source": [
    "L = Trot + Tk - Uk\n",
    "L"
   ]
  },
  {
   "cell_type": "markdown",
   "id": "590a6752-36e2-45be-a418-adfb94ace7fa",
   "metadata": {},
   "source": [
    "#### Setting up the Euler-Lagrange equations"
   ]
  },
  {
   "cell_type": "markdown",
   "id": "0248ba17-a474-4fad-b3e2-d1506bf73215",
   "metadata": {},
   "source": [
    "First, let us find $\\frac{\\partial \\mathcal{L}}{\\partial \\mathcal{\\ell}}$."
   ]
  },
  {
   "cell_type": "code",
   "execution_count": 13,
   "id": "f8993cf1-5e3c-424a-9064-593c52879cd4",
   "metadata": {},
   "outputs": [
    {
     "data": {
      "text/latex": [
       "$\\displaystyle \\frac{\\dot{\\phi}^{2} \\ell m}{12} - \\frac{k \\left(2 \\ell - 2 \\ell_{0}\\right)}{2}$"
      ],
      "text/plain": [
       "\\dot{\\phi}**2*\\ell*m/12 - k*(2*\\ell - 2*\\ell_0)/2"
      ]
     },
     "execution_count": 13,
     "metadata": {},
     "output_type": "execute_result"
    }
   ],
   "source": [
    "partl = diff(L, l)\n",
    "partl"
   ]
  },
  {
   "cell_type": "markdown",
   "id": "e2de0db1-0ced-464a-93ef-c40dc8768c7a",
   "metadata": {},
   "source": [
    "Now, let us find $\\frac{\\partial \\mathcal{L}}{\\partial \\dot{\\ell}}$."
   ]
  },
  {
   "cell_type": "code",
   "execution_count": 14,
   "id": "9fd82908-b973-4d3b-ae03-613546b4161a",
   "metadata": {},
   "outputs": [
    {
     "data": {
      "text/latex": [
       "$\\displaystyle \\frac{2 \\dot{\\ell} m}{3}$"
      ],
      "text/plain": [
       "2*\\dot{\\ell}*m/3"
      ]
     },
     "execution_count": 14,
     "metadata": {},
     "output_type": "execute_result"
    }
   ],
   "source": [
    "partldot = diff(L, ldot)\n",
    "partldot"
   ]
  },
  {
   "cell_type": "markdown",
   "id": "3b9bcdf8-dada-47cf-a148-83c5f3e728ce",
   "metadata": {},
   "source": [
    "Finally, let us find $\\frac{\\partial \\mathcal{L}}{\\partial \\dot{\\phi}}$."
   ]
  },
  {
   "cell_type": "code",
   "execution_count": 15,
   "id": "ee95e92e-314c-44aa-8e14-10eb5f6af3af",
   "metadata": {},
   "outputs": [
    {
     "data": {
      "text/latex": [
       "$\\displaystyle \\frac{\\dot{\\phi} \\ell^{2} m}{12}$"
      ],
      "text/plain": [
       "\\dot{\\phi}*\\ell**2*m/12"
      ]
     },
     "execution_count": 15,
     "metadata": {},
     "output_type": "execute_result"
    }
   ],
   "source": [
    "partphidot = diff(L, phidot)\n",
    "partphidot"
   ]
  },
  {
   "cell_type": "markdown",
   "id": "ff114a36-2e7f-4f7b-a06d-8d9fc6398d91",
   "metadata": {},
   "source": [
    "Now, let us find the generalized momentum $p_\\ell = \\frac{\\mathrm{d}}{\\mathrm{d} t} \\left( \\frac{\\partial \\mathcal{L}}{\\partial \\dot{\\ell}} \\right)$."
   ]
  },
  {
   "cell_type": "code",
   "execution_count": 16,
   "id": "92bb1de6-1bd0-4165-b10e-4801940c74e1",
   "metadata": {},
   "outputs": [
    {
     "data": {
      "text/latex": [
       "$\\displaystyle \\frac{2 \\ddot{\\ell} m}{3}$"
      ],
      "text/plain": [
       "2*\\ddot{\\ell}*m/3"
      ]
     },
     "execution_count": 16,
     "metadata": {},
     "output_type": "execute_result"
    }
   ],
   "source": [
    "lddot = symbols('\\ddot{\\ell}')\n",
    "pl = Rational(2, 3) * lddot * m\n",
    "pl"
   ]
  },
  {
   "cell_type": "markdown",
   "id": "112fbfc0-30e9-44cd-8cdd-1ab9116f51ea",
   "metadata": {},
   "source": [
    "Now, let us find the generalized momentum $p_\\phi = \\frac{\\mathrm{d}}{\\mathrm{d} t} \\left( \\frac{\\partial \\mathcal{L}}{\\partial \\dot{\\phi}} \\right)$."
   ]
  },
  {
   "cell_type": "code",
   "execution_count": 17,
   "id": "81bb5388-dbcf-4f87-a25e-40f8ed32eda8",
   "metadata": {},
   "outputs": [
    {
     "data": {
      "text/latex": [
       "$\\displaystyle \\frac{\\ddot{\\phi} \\ell^{2} m}{12} + \\frac{\\dot{\\ell} \\dot{\\phi} \\ell m}{6}$"
      ],
      "text/plain": [
       "\\ddot{\\phi}*\\ell**2*m/12 + \\dot{\\ell}*\\dot{\\phi}*\\ell*m/6"
      ]
     },
     "execution_count": 17,
     "metadata": {},
     "output_type": "execute_result"
    }
   ],
   "source": [
    "phiddot = symbols('\\ddot{\\phi}')\n",
    "pphi = phiddot * l**2 * m / 12 + phidot * l * ldot * m / 6\n",
    "pphi"
   ]
  },
  {
   "cell_type": "markdown",
   "id": "630e208e-2e36-4546-8b50-3fa9ea480b14",
   "metadata": {},
   "source": [
    "Let us find $\\frac{\\partial \\mathcal{L}}{\\partial \\ell} - p_\\ell$, which is equal to $0$."
   ]
  },
  {
   "cell_type": "code",
   "execution_count": 18,
   "id": "718b16a3-0e4b-4783-99cc-6cbb6c2669cf",
   "metadata": {},
   "outputs": [
    {
     "data": {
      "text/latex": [
       "$\\displaystyle - \\frac{2 \\ddot{\\ell} m}{3} + \\frac{\\dot{\\phi}^{2} \\ell m}{12} - \\frac{k \\left(2 \\ell - 2 \\ell_{0}\\right)}{2}$"
      ],
      "text/plain": [
       "-2*\\ddot{\\ell}*m/3 + \\dot{\\phi}**2*\\ell*m/12 - k*(2*\\ell - 2*\\ell_0)/2"
      ]
     },
     "execution_count": 18,
     "metadata": {},
     "output_type": "execute_result"
    }
   ],
   "source": [
    "eq0l = partl - pl\n",
    "eq0l"
   ]
  },
  {
   "cell_type": "markdown",
   "id": "9dc48e36-fdfe-47da-b430-07accd85c93a",
   "metadata": {},
   "source": [
    "Let us find $\\frac{\\partial \\mathcal{L}}{\\partial \\phi} - p_\\phi$, which is equal to $0$."
   ]
  },
  {
   "cell_type": "code",
   "execution_count": 19,
   "id": "92f491bc-1ef5-4673-95c9-8b1a8b0b494f",
   "metadata": {},
   "outputs": [
    {
     "data": {
      "text/latex": [
       "$\\displaystyle - \\frac{\\ddot{\\phi} \\ell^{2} m}{12} - \\frac{\\dot{\\ell} \\dot{\\phi} \\ell m}{6}$"
      ],
      "text/plain": [
       "-\\ddot{\\phi}*\\ell**2*m/12 - \\dot{\\ell}*\\dot{\\phi}*\\ell*m/6"
      ]
     },
     "execution_count": 19,
     "metadata": {},
     "output_type": "execute_result"
    }
   ],
   "source": [
    "eq0phi = 0 - pphi\n",
    "eq0phi"
   ]
  },
  {
   "cell_type": "markdown",
   "id": "99ded4aa-5326-49d9-9205-61e2f065d590",
   "metadata": {},
   "source": [
    "## Solving the motion of the model"
   ]
  },
  {
   "cell_type": "markdown",
   "id": "9b354029-6e5e-44c8-b008-825eafa285ec",
   "metadata": {},
   "source": [
    "### Euler's method"
   ]
  },
  {
   "cell_type": "markdown",
   "id": "3358503d-5dd4-4b02-a0f9-db8e9609e33c",
   "metadata": {},
   "source": [
    "To implement Euler's method, we will subdivide the motion into small timeframes of duration $\\Delta t$. In each timeframe, we assume constant values for $\\ddot{\\ell} \\left( t \\right)$ and $\\ddot{\\phi} \\left( t \\right)$. We then calculate the values at the end of the timeframe $\\dot{\\ell} \\left( t + \\Delta t \\right) = \\dot{\\ell} \\left( t \\right) + \\ddot{\\ell} \\left( t \\right) \\Delta t$, $\\dot{\\phi} \\left( t + \\Delta t \\right) = \\dot{\\phi} \\left( t \\right) + \\ddot{\\phi} \\left( t \\right) \\Delta t$, $\\ell \\left( t + \\Delta t \\right) = \\ell \\left( t \\right) + \\dot{\\ell}_n \\Delta t + \\frac{1}{2} \\ddot{\\ell} \\left( t \\right) \\Delta t^2$, and $\\phi \\left( t + \\Delta t \\right) = \\phi \\left( t \\right) + \\dot{\\phi}_n \\Delta t + \\frac{1}{2} \\ddot{\\phi} \\left( t \\right) \\Delta t^2$."
   ]
  },
  {
   "cell_type": "markdown",
   "id": "1e041305-7cd4-4267-a09b-29c1251aea8f",
   "metadata": {},
   "source": [
    "Now, we must solve for $\\ddot{\\ell}$ and $\\ddot{\\phi}$ in terms of the other variables. Let us first solve for $\\ddot{\\ell}$."
   ]
  },
  {
   "cell_type": "code",
   "execution_count": 20,
   "id": "49475c18-b48d-4d27-af6e-db1e68930867",
   "metadata": {},
   "outputs": [
    {
     "data": {
      "text/latex": [
       "$\\displaystyle - \\frac{3 \\left(- \\frac{\\dot{\\phi}^{2} \\ell m}{12} + \\frac{k \\left(2 \\ell - 2 \\ell_{0}\\right)}{2}\\right)}{2 m}$"
      ],
      "text/plain": [
       "-3*(-\\dot{\\phi}**2*\\ell*m/12 + k*(2*\\ell - 2*\\ell_0)/2)/(2*m)"
      ]
     },
     "execution_count": 20,
     "metadata": {},
     "output_type": "execute_result"
    }
   ],
   "source": [
    "lddotn = (- eq0l - Rational(2, 3) * lddot * m) / (- Rational(2, 3) * m)\n",
    "lddotn"
   ]
  },
  {
   "cell_type": "markdown",
   "id": "c108b29c-6adb-479b-ab58-4504079f3208",
   "metadata": {},
   "source": [
    "Now, let us solve for $\\ddot{\\phi}$."
   ]
  },
  {
   "cell_type": "code",
   "execution_count": 21,
   "id": "e0e789cd-5bb4-4bc9-8d62-f639f67b1a9d",
   "metadata": {},
   "outputs": [
    {
     "data": {
      "text/latex": [
       "$\\displaystyle - \\frac{2 \\dot{\\ell} \\dot{\\phi}}{\\ell}$"
      ],
      "text/plain": [
       "-2*\\dot{\\ell}*\\dot{\\phi}/\\ell"
      ]
     },
     "execution_count": 21,
     "metadata": {},
     "output_type": "execute_result"
    }
   ],
   "source": [
    "phiddotn = (- eq0phi - phiddot * l**2 * m / 12) / (- (l**2 * m / 12))\n",
    "phiddotn"
   ]
  },
  {
   "cell_type": "markdown",
   "id": "fc8386bd-49e2-47d7-bb69-03ec2712cecd",
   "metadata": {},
   "source": [
    "### Numerical solution"
   ]
  },
  {
   "cell_type": "code",
   "execution_count": 22,
   "id": "ab98cfdc-43b1-4794-b3a4-5b84e916fb4a",
   "metadata": {},
   "outputs": [],
   "source": [
    "def lval(l_val, phid_val, l0_val, m_val, k_val):\n",
    "    return - (3 * (- (phid_val**2 * l_val * m_val) / 12 + k_val * (2 * l_val - 2 * l0_val) / 2)) / (2 * m_val)\n",
    "\n",
    "def phival(l_val, ld_val, phid_val):\n",
    "    return - 2 * ld_val * phid_val / l_val"
   ]
  },
  {
   "cell_type": "code",
   "execution_count": 23,
   "id": "9763c56e-ba2a-4571-b795-7a08631cb29c",
   "metadata": {},
   "outputs": [],
   "source": [
    "l0_num = 1\n",
    "m_num = 1\n",
    "k_num = 1\n",
    "\n",
    "l_init = l0_num\n",
    "phi_init = 0\n",
    "ldot_init = 0\n",
    "phidot_init = 2 * np.pi\n",
    "delta_t = 0.01\n",
    "t_init = 0\n",
    "t_max = 4\n",
    "\n",
    "l_vals = []\n",
    "phi_vals = []\n",
    "t_vals = []\n",
    "\n",
    "t_num = t_init\n",
    "l_num = l_init\n",
    "phi_num = phi_init\n",
    "ldot_num = ldot_init\n",
    "phidot_num = phidot_init\n",
    "\n",
    "while t_num <= t_max:\n",
    "    t_vals.append(t_num)\n",
    "    l_vals.append(l_num)\n",
    "    phi_vals.append(phi_num)\n",
    "    \n",
    "    lddot_num = lval(l_num, phidot_num, l0_num, m_num, k_num)\n",
    "    phiddot_num = phival(l_num, ldot_num, phidot_num)\n",
    "    \n",
    "    l_num = l_num + ldot_num * delta_t + (1/2) * lddot_num * delta_t**2\n",
    "    phi_num = phi_num + phidot_num * delta_t + (1/2) * lddot_num * delta_t**2\n",
    "    ldot_num = ldot_num + lddot_num * delta_t\n",
    "    phidot_num = phidot_num + phiddot_num * delta_t\n",
    "    t_num = t_num + delta_t"
   ]
  },
  {
   "cell_type": "code",
   "execution_count": 24,
   "id": "b6252cda-7ca6-439b-8ea4-f55a2276fb36",
   "metadata": {},
   "outputs": [
    {
     "data": {
      "text/plain": [
       "Text(0, 0.5, 'l (m)')"
      ]
     },
     "execution_count": 24,
     "metadata": {},
     "output_type": "execute_result"
    },
    {
     "data": {
      "image/png": "[encoded data removed]",
      "text/plain": [
       "<Figure size 432x288 with 1 Axes>"
      ]
     },
     "metadata": {
      "needs_background": "light"
     },
     "output_type": "display_data"
    }
   ],
   "source": [
    "plt.scatter(t_vals, l_vals)\n",
    "plt.xlabel('t (s)')\n",
    "plt.ylabel('l (m)')"
   ]
  },
  {
   "cell_type": "code",
   "execution_count": 25,
   "id": "f5a845ba-381f-480e-8075-2bfa8282d24c",
   "metadata": {},
   "outputs": [
    {
     "data": {
      "text/plain": [
       "Text(0, 0.5, 'phi (rad)')"
      ]
     },
     "execution_count": 25,
     "metadata": {},
     "output_type": "execute_result"
    },
    {
     "data": {
      "image/png": "[encoded data removed]",
      "text/plain": [
       "<Figure size 432x288 with 1 Axes>"
      ]
     },
     "metadata": {
      "needs_background": "light"
     },
     "output_type": "display_data"
    }
   ],
   "source": [
    "plt.scatter(t_vals, phi_vals)\n",
    "plt.xlabel('t (s)')\n",
    "plt.ylabel('phi (rad)')"
   ]
  },
  {
   "cell_type": "code",
   "execution_count": null,
   "id": "dfa50ace-a4b1-4cad-b8a6-f5111004e1b9",
   "metadata": {},
   "outputs": [],
   "source": []
  }
 ],
 "metadata": {
  "kernelspec": {
   "display_name": "Python 3 (ipykernel)",
   "language": "python",
   "name": "python3"
  },
  "language_info": {
   "codemirror_mode": {
    "name": "ipython",
    "version": 3
   },
   "file_extension": ".py",
   "mimetype": "text/x-python",
   "name": "python",
   "nbconvert_exporter": "python",
   "pygments_lexer": "ipython3",
   "version": "3.9.7"
  }
 },
 "nbformat": 4,
 "nbformat_minor": 5
}
